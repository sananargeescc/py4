{
  "cells": [
    {
      "cell_type": "markdown",
      "metadata": {
        "id": "b2GSAQj7i2pc"
      },
      "source": [
        "write a programe that compute the netamount of bank acount based"
      ]
    },
    {
      "cell_type": "code",
      "execution_count": null,
      "metadata": {
        "colab": {
          "base_uri": "https://localhost:8080/"
        },
        "id": "mGSknrhMjvOj",
        "outputId": "0d6e3954-e63f-4713-b738-24cc61b484f0"
      },
      "outputs": [
        {
          "name": "stdout",
          "output_type": "stream",
          "text": [
            "num:D 100\n",
            "num:D 200\n",
            "num:D 300\n",
            "num:W 100\n",
            "num:D 100\n",
            "num:\n",
            "600\n"
          ]
        }
      ],
      "source": [
        "netamount=0\n",
        "while True:\n",
        "  s=input(\"num:\")\n",
        "  if not s:\n",
        "    break\n",
        "  values=s.split(\" \")\n",
        "  operation=values[0]\n",
        "  amount=int(values[1])\n",
        "  if operation==\"D\":\n",
        "    netamount+=amount\n",
        "  elif operation==\"W\":\n",
        "    netamount-=amount\n",
        "  else:\n",
        "    pass\n",
        "print(netamount)          "
      ]
    },
    {
      "cell_type": "markdown",
      "metadata": {
        "id": "hxYbAFOlmJ07"
      },
      "source": [
        "define a function that can accept two strings as input and print the string with maximum length in console.if two strings have same length,then the functio  should print all string line by line"
      ]
    },
    {
      "cell_type": "code",
      "execution_count": null,
      "metadata": {
        "colab": {
          "base_uri": "https://localhost:8080/"
        },
        "id": "fqW2PIqbnRMv",
        "outputId": "a9b8940d-b6d8-48ff-bb7f-c2fb719f661b"
      },
      "outputs": [
        {
          "name": "stdout",
          "output_type": "stream",
          "text": [
            "string1:sana\n",
            "string2:rana\n",
            "sana\n",
            "rana\n"
          ]
        }
      ],
      "source": [
        "def strings():\n",
        "  a=input(\"string1:\")\n",
        "  b=input(\"string2:\")\n",
        "  if len(a)>len(b):\n",
        "    print(a)\n",
        "  elif len(b)>len(a):\n",
        "    print(b)\n",
        "  elif len(a)==len(b):\n",
        "    print(a)\n",
        "    print(b)\n",
        "strings()    "
      ]
    },
    {
      "cell_type": "code",
      "execution_count": null,
      "metadata": {
        "colab": {
          "base_uri": "https://localhost:8080/"
        },
        "id": "xSOqqS1OphN5",
        "outputId": "d6532655-ad9d-488c-9f0f-651d895cb6d9"
      },
      "outputs": [
        {
          "name": "stdout",
          "output_type": "stream",
          "text": [
            "string1:sana\n",
            "string2:rana\n",
            "sana\n",
            "rana\n"
          ]
        }
      ],
      "source": [
        "def strings(a,b):\n",
        "  len1=len(a)\n",
        "  len2=len(b)\n",
        "  if len1>len2:\n",
        "    print(a)\n",
        "  elif len2>len1:\n",
        "    print(b)\n",
        "  else:\n",
        "    print(a)\n",
        "    print(b)\n",
        "strings(input(\"string1:\"),input(\"string2:\"))  "
      ]
    },
    {
      "cell_type": "markdown",
      "metadata": {
        "id": "p4v8SMB5qyax"
      },
      "source": [
        "define a function which can print a dictionary  where the keys are numbers between 1 and 20 (both included) and the values are square of keys."
      ]
    },
    {
      "cell_type": "code",
      "execution_count": null,
      "metadata": {
        "colab": {
          "base_uri": "https://localhost:8080/"
        },
        "id": "xuFbBiICrjXI",
        "outputId": "c72552ee-7a17-4bc8-d856-723375e82c8a"
      },
      "outputs": [
        {
          "name": "stdout",
          "output_type": "stream",
          "text": [
            "{1: 1, 2: 4, 3: 9, 4: 16, 5: 25, 6: 36, 7: 49, 8: 64, 9: 81, 10: 100, 11: 121, 12: 144, 13: 169, 14: 196, 15: 225, 16: 256, 17: 289, 18: 324, 19: 361, 20: 400}\n"
          ]
        }
      ],
      "source": [
        "def dic():\n",
        "  d={}\n",
        "  for i in range(1,21):\n",
        "    d[i]=i*i\n",
        "  print(d)\n",
        "dic()   \n",
        "\n"
      ]
    },
    {
      "cell_type": "markdown",
      "metadata": {
        "id": "CV3QI76suABD"
      },
      "source": [
        "define a function which can generate a list where the values are square of numbers between 1 and 20 (bothincluded).Then the function needs to print the last 5 elements in the list."
      ]
    },
    {
      "cell_type": "code",
      "execution_count": null,
      "metadata": {
        "colab": {
          "base_uri": "https://localhost:8080/"
        },
        "id": "X7p5aPhVuZ9V",
        "outputId": "ee145fbb-56c7-4b7a-e6bf-fcb74feaa2c4"
      },
      "outputs": [
        {
          "name": "stdout",
          "output_type": "stream",
          "text": [
            "[256, 289, 324, 361, 400]\n"
          ]
        }
      ],
      "source": [
        "def lis():\n",
        "  list1=[]\n",
        "  for i in range(1,21):\n",
        "    list1.append(i*i)\n",
        "  print(list1[-5:])\n",
        "lis()    \n"
      ]
    },
    {
      "cell_type": "markdown",
      "metadata": {
        "id": "jXDx45_Zw2ar"
      },
      "source": [
        "with a given tuple(1,2,3,4,5,6,7,8,9,10),write a program to print the first half values in one line and last half values in another line."
      ]
    },
    {
      "cell_type": "code",
      "execution_count": null,
      "metadata": {
        "colab": {
          "base_uri": "https://localhost:8080/"
        },
        "id": "M4JKbLk0xSW9",
        "outputId": "a73c264f-3d21-49c7-92e7-2256ffdaac80"
      },
      "outputs": [
        {
          "name": "stdout",
          "output_type": "stream",
          "text": [
            "(1, 2, 3, 4, 5)\n",
            "(6, 7, 8, 9, 10)\n"
          ]
        }
      ],
      "source": [
        "tuple1=(1,2,3,4,5,6,7,8,9,10)\n",
        "print(tuple1[:5])\n",
        "print(tuple1[5:])\n",
        "\n",
        "  "
      ]
    },
    {
      "cell_type": "markdown",
      "metadata": {
        "id": "j_gPg2iCyYiU"
      },
      "source": [
        "write a program which accept a string as input to print \"yes\" if the string is \"yes\" or \"YES\" or \"Yes\" ,otherwise print\"No\""
      ]
    },
    {
      "cell_type": "code",
      "execution_count": null,
      "metadata": {
        "colab": {
          "base_uri": "https://localhost:8080/"
        },
        "id": "RGkoIoIJy3av",
        "outputId": "f4fbe376-9d71-470c-d621-47be864da7b7"
      },
      "outputs": [
        {
          "name": "stdout",
          "output_type": "stream",
          "text": [
            "string:yes\n",
            "Yes\n"
          ]
        }
      ],
      "source": [
        "a=input(\"string:\")\n",
        "if a==\"yes\" or a==\"YES\" or a==\"Yes\":\n",
        "  print(\"Yes\")\n",
        "else:\n",
        "  print(\"No\")  "
      ]
    },
    {
      "cell_type": "markdown",
      "metadata": {
        "id": "IXwHSLvdz47b"
      },
      "source": [
        "write a program which can filter even numbers in a list by using filter function.The list is:[1,2,3,4,5,6,7,8,9,10]."
      ]
    },
    {
      "cell_type": "code",
      "execution_count": null,
      "metadata": {
        "colab": {
          "base_uri": "https://localhost:8080/"
        },
        "id": "fsa0CxzV0dVD",
        "outputId": "27769a66-647b-44f0-f6cc-ae4f599d02da"
      },
      "outputs": [
        {
          "name": "stdout",
          "output_type": "stream",
          "text": [
            "[2, 4, 6, 8, 10]\n"
          ]
        }
      ],
      "source": [
        "list1=[1,2,3,4,5,6,7,8,10]\n",
        "even=filter(lambda x:x%2==0,list1)\n",
        "\n",
        "print(list(even))\n",
        "\n"
      ]
    },
    {
      "cell_type": "code",
      "execution_count": null,
      "metadata": {
        "colab": {
          "base_uri": "https://localhost:8080/"
        },
        "id": "H_3z1kqJ3-Lf",
        "outputId": "6f0cc97d-3533-4c69-9347-bd1e85b3b617"
      },
      "outputs": [
        {
          "name": "stdout",
          "output_type": "stream",
          "text": [
            "[2, 4, 6, 8, 10]\n"
          ]
        }
      ],
      "source": [
        "list1=[1,2,3,4,5,6,7,8,10]\n",
        "def even(x):\n",
        "  return x%2==0\n",
        "list2=list(filter(even,list1))\n",
        "print(list2) \n",
        "  "
      ]
    },
    {
      "cell_type": "markdown",
      "metadata": {
        "id": "DRNroQaw5zh9"
      },
      "source": [
        "please write a program to generate all sentance where subject is in [\"I\",\"YOU\"] and verb is in [\"Play\",\"Love\"]\n",
        "and the object is in [\"Hockey\",\"Football\"]."
      ]
    },
    {
      "cell_type": "code",
      "execution_count": null,
      "metadata": {
        "colab": {
          "base_uri": "https://localhost:8080/"
        },
        "id": "RaqaL1Oq69VF",
        "outputId": "d473a00d-b530-43da-eba6-add88164f322"
      },
      "outputs": [
        {
          "name": "stdout",
          "output_type": "stream",
          "text": [
            "I Play Hockey\n",
            "I Play Football\n",
            "I Love Hockey\n",
            "I Love Football\n",
            "YOU Play Hockey\n",
            "YOU Play Football\n",
            "YOU Love Hockey\n",
            "YOU Love Football\n"
          ]
        }
      ],
      "source": [
        "sub=[\"I\",\"YOU\"]\n",
        "verb= [\"Play\",\"Love\"]\n",
        "obj=[\"Hockey\",\"Football\"]\n",
        "for i in sub:\n",
        "  for j in verb:\n",
        "    for k in obj:\n",
        "      print(i+\" \"+j+\" \"+k)\n",
        "\n"
      ]
    }
  ],
  "metadata": {
    "colab": {
      "provenance": []
    },
    "kernelspec": {
      "display_name": "Python 3",
      "name": "python3"
    },
    "language_info": {
      "name": "python"
    }
  },
  "nbformat": 4,
  "nbformat_minor": 0
}
